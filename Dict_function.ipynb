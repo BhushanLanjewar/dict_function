{
 "cells": [
  {
   "cell_type": "markdown",
   "id": "b770ac85-dec0-44d8-bc2b-c03633cd3b7f",
   "metadata": {},
   "source": [
    "# Dictionary"
   ]
  },
  {
   "cell_type": "markdown",
   "id": "62f54cbb-3a9b-44fa-930a-5af270c96f4f",
   "metadata": {},
   "source": [
    "### 1) clear()"
   ]
  },
  {
   "cell_type": "code",
   "execution_count": 4,
   "id": "e15c63d8-8004-427e-85a9-bf42260cbc26",
   "metadata": {},
   "outputs": [
    {
     "name": "stdout",
     "output_type": "stream",
     "text": [
      "{}\n"
     ]
    }
   ],
   "source": [
    "car = {\n",
    "  \"brand\": \"Ford\",\n",
    "  \"model\": \"Mustang\",\n",
    "  \"year\": 1964\n",
    "}\n",
    "\n",
    "\n",
    "car.clear()\n",
    "print(car)"
   ]
  },
  {
   "cell_type": "code",
   "execution_count": null,
   "id": "5c67f2fc-380f-48ac-a4ab-bf5932628acb",
   "metadata": {},
   "outputs": [],
   "source": []
  },
  {
   "cell_type": "markdown",
   "id": "f903c9cf-87cf-4813-ad01-7dca307795ca",
   "metadata": {},
   "source": [
    "### 2) copy()"
   ]
  },
  {
   "cell_type": "code",
   "execution_count": 7,
   "id": "c63439ce-0bb8-4234-8cd5-7c27f29e5bba",
   "metadata": {},
   "outputs": [],
   "source": [
    "data = {\n",
    "  \"name\": \"bhushan\",\n",
    "  \"age\": 23,\n",
    "  \"year\": 2001\n",
    "}\n",
    "\n",
    "\n",
    "\n"
   ]
  },
  {
   "cell_type": "code",
   "execution_count": 6,
   "id": "dae9acfc-2562-4465-b89d-9c58fd6943ca",
   "metadata": {},
   "outputs": [
    {
     "data": {
      "text/plain": [
       "{'name': 'bhushan', 'age': 23, 'year': 2001}"
      ]
     },
     "execution_count": 6,
     "metadata": {},
     "output_type": "execute_result"
    }
   ],
   "source": [
    "data.copy()\n",
    "\n"
   ]
  },
  {
   "cell_type": "code",
   "execution_count": 8,
   "id": "6cd13ddf-b61b-4085-bef7-17c125276043",
   "metadata": {},
   "outputs": [
    {
     "name": "stdout",
     "output_type": "stream",
     "text": [
      "{'name': 'bhushan', 'age': 23, 'year': 2001}\n"
     ]
    }
   ],
   "source": [
    "print(data)"
   ]
  },
  {
   "cell_type": "code",
   "execution_count": null,
   "id": "466d4c85-9444-474a-9959-45da128c2678",
   "metadata": {},
   "outputs": [],
   "source": []
  },
  {
   "cell_type": "markdown",
   "id": "4f13f10b-42e5-43a0-8a07-009b9a8bfa83",
   "metadata": {},
   "source": [
    "### 3) fromkeys()"
   ]
  },
  {
   "cell_type": "code",
   "execution_count": 1,
   "id": "c7a7713c-a18b-46e4-bea5-9d087b768fba",
   "metadata": {},
   "outputs": [
    {
     "name": "stdout",
     "output_type": "stream",
     "text": [
      "{'a': 0, 'b': 0, 'c': 0, 'd': 0}\n"
     ]
    }
   ],
   "source": [
    "keys = ('a', 'b', 'c', 'd')\n",
    "value = 0  \n",
    "\n",
    "result = dict.fromkeys(keys,value)\n",
    "\n",
    "print(result)\n"
   ]
  },
  {
   "cell_type": "code",
   "execution_count": null,
   "id": "4ec4e5d8-30b0-457b-9152-5f95a3bdfdb2",
   "metadata": {},
   "outputs": [],
   "source": []
  },
  {
   "cell_type": "markdown",
   "id": "3d881828-ecc7-42f9-92fc-46d417b9ba1e",
   "metadata": {},
   "source": [
    "### 4) get()"
   ]
  },
  {
   "cell_type": "code",
   "execution_count": 3,
   "id": "032c19a8-cb1e-460c-8c10-c3e16af361f3",
   "metadata": {},
   "outputs": [
    {
     "name": "stdout",
     "output_type": "stream",
     "text": [
      "Ryzeen 5\n"
     ]
    }
   ],
   "source": [
    "car = {\n",
    "  \"brand\": \"HP\",\n",
    "  \"model\": \"Ryzeen 5\",\n",
    "  \"year\": 2023\n",
    "}\n",
    "\n",
    "x = car.get(\"model\")\n",
    "\n",
    "print(x)"
   ]
  },
  {
   "cell_type": "code",
   "execution_count": null,
   "id": "10374489-0e52-4337-a356-0328f51e9210",
   "metadata": {},
   "outputs": [],
   "source": []
  },
  {
   "cell_type": "markdown",
   "id": "2902b7db-83cd-4b4e-a6f1-db2065d8cb74",
   "metadata": {},
   "source": [
    "### 5) items()"
   ]
  },
  {
   "cell_type": "code",
   "execution_count": 9,
   "id": "f1a68cf0-cbe1-4c91-ae36-d6a1b53e7684",
   "metadata": {},
   "outputs": [
    {
     "name": "stdout",
     "output_type": "stream",
     "text": [
      "dict_items([('brand', 'HP'), ('model', 'Ryzeen 5'), ('year', 2023)])\n"
     ]
    }
   ],
   "source": [
    "car = {\n",
    "  \"brand\": \"HP\",\n",
    "  \"model\": \"Ryzeen 5\",\n",
    "  \"year\": 2023\n",
    "}\n",
    "\n",
    "result = car.items()\n",
    "\n",
    "print(result)"
   ]
  },
  {
   "cell_type": "code",
   "execution_count": null,
   "id": "af444112-7007-4217-ab68-9ce72d781a24",
   "metadata": {},
   "outputs": [],
   "source": []
  },
  {
   "cell_type": "markdown",
   "id": "fa51912e-8b11-4c9d-8ac5-21cc7277d433",
   "metadata": {},
   "source": [
    "### 6) keys()"
   ]
  },
  {
   "cell_type": "code",
   "execution_count": 13,
   "id": "bd2d5011-9975-4e06-acb0-b474b2bbde30",
   "metadata": {},
   "outputs": [
    {
     "name": "stdout",
     "output_type": "stream",
     "text": [
      "dict_keys(['name', 'age', 'year'])\n"
     ]
    }
   ],
   "source": [
    "data = {\n",
    "  \"name\": \"bhushan\",\n",
    "  \"age\": 23,\n",
    "  \"year\": 2001\n",
    "}\n",
    "\n",
    "\n",
    "x = data.keys()\n",
    "\n",
    "print(x)"
   ]
  },
  {
   "cell_type": "code",
   "execution_count": null,
   "id": "7ecd604f-8a32-48a2-9470-262ae3de20f5",
   "metadata": {},
   "outputs": [],
   "source": []
  },
  {
   "cell_type": "markdown",
   "id": "d689dacb-f195-4791-a936-222e82732513",
   "metadata": {},
   "source": [
    "### 7) pop()"
   ]
  },
  {
   "cell_type": "markdown",
   "id": "3edb73c9-e5cf-4e7b-9918-fbf59f926ce9",
   "metadata": {},
   "source": [
    "dict = {\n",
    "    'a': 1, \n",
    "    'b': 2, \n",
    "    'c': 3\n",
    "}\n",
    "\n",
    "dict.pop('b')\n",
    "\n",
    "print(dict)"
   ]
  },
  {
   "cell_type": "code",
   "execution_count": null,
   "id": "0845665b-3996-4dd3-ab48-681e0be74625",
   "metadata": {},
   "outputs": [],
   "source": []
  },
  {
   "cell_type": "markdown",
   "id": "d53ea545-1996-4c53-8e66-bdbb3cd40797",
   "metadata": {},
   "source": [
    "### 8) popitem()"
   ]
  },
  {
   "cell_type": "code",
   "execution_count": 19,
   "id": "0a316a10-2ea0-46e8-9a4b-dfca252481dc",
   "metadata": {},
   "outputs": [
    {
     "name": "stdout",
     "output_type": "stream",
     "text": [
      "{'a': 1, 'b': 2}\n"
     ]
    }
   ],
   "source": [
    "dict = {\n",
    "    'a': 1, \n",
    "    'b': 2, \n",
    "    'c': 3\n",
    "}\n",
    "dict.popitem()\n",
    "\n",
    "print(dict)"
   ]
  },
  {
   "cell_type": "code",
   "execution_count": null,
   "id": "61c513b8-695e-4cca-aad9-2534a9e45cc6",
   "metadata": {},
   "outputs": [],
   "source": []
  },
  {
   "cell_type": "markdown",
   "id": "0a991c3b-46fd-41ed-9f66-7d50ee89350c",
   "metadata": {},
   "source": [
    "### 9) setdefault()"
   ]
  },
  {
   "cell_type": "code",
   "execution_count": 20,
   "id": "65105e92-69c0-4f90-9afb-e15d07b8b32c",
   "metadata": {},
   "outputs": [
    {
     "name": "stdout",
     "output_type": "stream",
     "text": [
      "Mustang\n"
     ]
    }
   ],
   "source": [
    "car = {\n",
    "  \"brand\": \"Ford\",\n",
    "  \"model\": \"Mustang\",\n",
    "  \"year\": 1964\n",
    "}\n",
    "\n",
    "x = car.setdefault(\"model\", \"Bronco\")\n",
    "\n",
    "print(x)"
   ]
  },
  {
   "cell_type": "code",
   "execution_count": null,
   "id": "ed35c17d-aad2-407e-9e4b-242e443b13a1",
   "metadata": {},
   "outputs": [],
   "source": []
  },
  {
   "cell_type": "markdown",
   "id": "96a6cbf1-2db4-4896-8984-bb3e51a4f158",
   "metadata": {},
   "source": [
    "### 10) update()"
   ]
  },
  {
   "cell_type": "code",
   "execution_count": 21,
   "id": "08dcb7a5-8ec0-4593-80da-9ec77f6ec85e",
   "metadata": {},
   "outputs": [
    {
     "name": "stdout",
     "output_type": "stream",
     "text": [
      "{'brand': 'Ford', 'model': 'Mustang', 'year': 1964, 'color': 'White'}\n"
     ]
    }
   ],
   "source": [
    "car = {\n",
    "  \"brand\": \"Ford\",\n",
    "  \"model\": \"Mustang\",\n",
    "  \"year\": 1964\n",
    "}\n",
    "\n",
    "car.update({\"color\": \"White\"})\n",
    "\n",
    "print(car)"
   ]
  },
  {
   "cell_type": "code",
   "execution_count": null,
   "id": "32ba6c4b-ae85-4ad1-85a4-a712c77da70d",
   "metadata": {},
   "outputs": [],
   "source": []
  },
  {
   "cell_type": "markdown",
   "id": "92887725-76b8-47e9-95bd-f283607b0fcc",
   "metadata": {},
   "source": [
    "### 11) values()"
   ]
  },
  {
   "cell_type": "code",
   "execution_count": 25,
   "id": "109e9bf1-ded0-4e7f-a066-6f6d222cf543",
   "metadata": {},
   "outputs": [
    {
     "name": "stdout",
     "output_type": "stream",
     "text": [
      "dict_values([65, 66, 67])\n"
     ]
    }
   ],
   "source": [
    "alpha = {\n",
    "    'A' : 65,\n",
    "    'B' : 66,\n",
    "    'C' : 67\n",
    "}\n",
    "\n",
    "x = alpha.values()\n",
    "\n",
    "print(x)"
   ]
  },
  {
   "cell_type": "code",
   "execution_count": null,
   "id": "a1daa627-3ede-4fbc-9c4a-2b29b68efd18",
   "metadata": {},
   "outputs": [],
   "source": []
  },
  {
   "cell_type": "markdown",
   "id": "5e516001-18d3-47c0-8d2e-1cd7a46b85ab",
   "metadata": {},
   "source": [
    "# Tuples"
   ]
  },
  {
   "cell_type": "markdown",
   "id": "0e8fd98a-d208-4be5-916c-276559e65e5a",
   "metadata": {},
   "source": [
    "### 1) count()"
   ]
  },
  {
   "cell_type": "code",
   "execution_count": 27,
   "id": "41f8b975-9e0d-4bbb-9240-8c79db53df3a",
   "metadata": {},
   "outputs": [
    {
     "name": "stdout",
     "output_type": "stream",
     "text": [
      " 1: 4\n"
     ]
    }
   ],
   "source": [
    "tuple = (1, 2, 3, 1, 4, 1, 5, 7, 8, 1)\n",
    "\n",
    "results = tuple.count(1)\n",
    "\n",
    "print(\" 1:\",results)\n"
   ]
  },
  {
   "cell_type": "code",
   "execution_count": null,
   "id": "8bde6ca1-ad3b-452a-b0cc-9a38c2cfc2c1",
   "metadata": {},
   "outputs": [],
   "source": []
  },
  {
   "cell_type": "markdown",
   "id": "c49e2fee-e9e8-42e2-b8f5-6eebb88a9554",
   "metadata": {},
   "source": [
    "### 2) index()"
   ]
  },
  {
   "cell_type": "code",
   "execution_count": 30,
   "id": "4ffb1992-63c7-4839-bcab-762f9b6ae763",
   "metadata": {},
   "outputs": [
    {
     "name": "stdout",
     "output_type": "stream",
     "text": [
      "Index of 20: 1\n"
     ]
    }
   ],
   "source": [
    "value = (10, 20, 30, 20, 40)\n",
    "\n",
    "x = value.index(20)\n",
    "\n",
    "print(\"Index of 20:\", x)\n"
   ]
  }
 ],
 "metadata": {
  "kernelspec": {
   "display_name": "Python 3 (ipykernel)",
   "language": "python",
   "name": "python3"
  },
  "language_info": {
   "codemirror_mode": {
    "name": "ipython",
    "version": 3
   },
   "file_extension": ".py",
   "mimetype": "text/x-python",
   "name": "python",
   "nbconvert_exporter": "python",
   "pygments_lexer": "ipython3",
   "version": "3.12.4"
  }
 },
 "nbformat": 4,
 "nbformat_minor": 5
}
